{
  "nbformat": 4,
  "nbformat_minor": 0,
  "metadata": {
    "colab": {
      "provenance": [],
      "gpuType": "T4"
    },
    "kernelspec": {
      "name": "python3",
      "display_name": "Python 3"
    },
    "language_info": {
      "name": "python"
    },
    "accelerator": "GPU"
  },
  "cells": [
    {
      "cell_type": "code",
      "source": [
        "from tensorflow.keras.datasets import mnist\n",
        "from tensorflow.keras.utils import to_categorical"
      ],
      "metadata": {
        "id": "VslwZBzUEjxw"
      },
      "execution_count": null,
      "outputs": []
    },
    {
      "cell_type": "code",
      "source": [
        "import numpy as np\n",
        "import tensorflow as tf\n",
        "import matplotlib.pyplot as plt\n",
        "import random"
      ],
      "metadata": {
        "id": "1qx6NFMEd2JO"
      },
      "execution_count": null,
      "outputs": []
    },
    {
      "cell_type": "code",
      "source": [
        "(x_train,y_train),(x_test,y_test) = mnist.load_data()"
      ],
      "metadata": {
        "colab": {
          "base_uri": "https://localhost:8080/"
        },
        "id": "1iCG1cgYeKc_",
        "outputId": "092cf14e-7f90-40f5-c7f1-653b5ac10c49"
      },
      "execution_count": null,
      "outputs": [
        {
          "output_type": "stream",
          "name": "stdout",
          "text": [
            "Downloading data from https://storage.googleapis.com/tensorflow/tf-keras-datasets/mnist.npz\n",
            "11490434/11490434 [==============================] - 0s 0us/step\n"
          ]
        }
      ]
    },
    {
      "cell_type": "code",
      "source": [
        "print(x_train.shape)\n",
        "print(x_test.shape)\n",
        "print(y_train.shape)\n",
        "print(y_test.shape)"
      ],
      "metadata": {
        "colab": {
          "base_uri": "https://localhost:8080/"
        },
        "id": "P3K5eSjseaZD",
        "outputId": "5e4073c9-9e78-4fae-f072-f3bcfe763222"
      },
      "execution_count": null,
      "outputs": [
        {
          "output_type": "stream",
          "name": "stdout",
          "text": [
            "(60000, 28, 28)\n",
            "(10000, 28, 28)\n",
            "(60000,)\n",
            "(10000,)\n"
          ]
        }
      ]
    },
    {
      "cell_type": "code",
      "source": [
        "x_train = x_train.reshape(60000,784)\n",
        "x_test = x_test.reshape(10000,784)"
      ],
      "metadata": {
        "id": "CDjqRcsTemkg"
      },
      "execution_count": null,
      "outputs": []
    },
    {
      "cell_type": "code",
      "source": [
        "x_train = x_train.astype('float')\n",
        "x_test = x_test.astype('float')"
      ],
      "metadata": {
        "id": "5v4iqxyOe8E4"
      },
      "execution_count": null,
      "outputs": []
    },
    {
      "cell_type": "code",
      "source": [
        "x_train /= 255\n",
        "x_test /= 255"
      ],
      "metadata": {
        "id": "HuwNN6DifIWo"
      },
      "execution_count": null,
      "outputs": []
    },
    {
      "cell_type": "code",
      "source": [
        "y_train[3]"
      ],
      "metadata": {
        "colab": {
          "base_uri": "https://localhost:8080/"
        },
        "id": "8LjBsPh9fRGB",
        "outputId": "bbc96478-cad7-4284-eb56-ed42542340de"
      },
      "execution_count": null,
      "outputs": [
        {
          "output_type": "execute_result",
          "data": {
            "text/plain": [
              "1"
            ]
          },
          "metadata": {},
          "execution_count": 8
        }
      ]
    },
    {
      "cell_type": "code",
      "source": [
        "y_train = to_categorical(y_train,num_classes=10)\n",
        "y_test = to_categorical(y_test, num_classes = 10)"
      ],
      "metadata": {
        "id": "GN85JFyCfU0q"
      },
      "execution_count": null,
      "outputs": []
    },
    {
      "cell_type": "code",
      "source": [
        "y_train[3]"
      ],
      "metadata": {
        "colab": {
          "base_uri": "https://localhost:8080/"
        },
        "id": "hbjwxNy3fmry",
        "outputId": "fffe3c59-d723-434f-8ef7-666e7c546ea3"
      },
      "execution_count": null,
      "outputs": [
        {
          "output_type": "execute_result",
          "data": {
            "text/plain": [
              "array([0., 1., 0., 0., 0., 0., 0., 0., 0., 0.], dtype=float32)"
            ]
          },
          "metadata": {},
          "execution_count": 10
        }
      ]
    },
    {
      "cell_type": "code",
      "source": [
        "y_train.shape"
      ],
      "metadata": {
        "colab": {
          "base_uri": "https://localhost:8080/"
        },
        "id": "2LgdZvX9fq62",
        "outputId": "7d5fd448-34fc-4691-8b26-39fa2ec81a7b"
      },
      "execution_count": null,
      "outputs": [
        {
          "output_type": "execute_result",
          "data": {
            "text/plain": [
              "(60000, 10)"
            ]
          },
          "metadata": {},
          "execution_count": 11
        }
      ]
    },
    {
      "cell_type": "code",
      "source": [
        "from tensorflow.keras.models import Sequential\n",
        "from tensorflow.keras.layers import Dense , Activation"
      ],
      "metadata": {
        "id": "8o4Or3lLfvcQ"
      },
      "execution_count": null,
      "outputs": []
    },
    {
      "cell_type": "code",
      "source": [
        "model = Sequential()"
      ],
      "metadata": {
        "id": "Pk6fh38BgAul"
      },
      "execution_count": null,
      "outputs": []
    },
    {
      "cell_type": "code",
      "source": [
        "model.add(Dense(512, input_shape = (784,)))"
      ],
      "metadata": {
        "id": "I89CIcS4gDzJ"
      },
      "execution_count": null,
      "outputs": []
    },
    {
      "cell_type": "code",
      "source": [
        "model.add(Activation('sigmoid'))"
      ],
      "metadata": {
        "id": "jr3aAc_1gbUF"
      },
      "execution_count": null,
      "outputs": []
    },
    {
      "cell_type": "code",
      "source": [
        "model.add(Dense(512,activation='sigmoid'))\n",
        "model.add(Dense(512,activation='sigmoid'))\n",
        "model.add(Dense(512,activation='sigmoid'))"
      ],
      "metadata": {
        "id": "gsy7DqjShMc0"
      },
      "execution_count": null,
      "outputs": []
    },
    {
      "cell_type": "code",
      "source": [
        "model.add(Dense(10,activation = 'softmax'))"
      ],
      "metadata": {
        "id": "4CCCaDinhb2C"
      },
      "execution_count": null,
      "outputs": []
    },
    {
      "cell_type": "code",
      "source": [
        "model.summary()"
      ],
      "metadata": {
        "colab": {
          "base_uri": "https://localhost:8080/"
        },
        "id": "EgFblH53iAL2",
        "outputId": "9f506aad-0ad5-467d-c81a-316acf1e0594"
      },
      "execution_count": null,
      "outputs": [
        {
          "output_type": "stream",
          "name": "stdout",
          "text": [
            "Model: \"sequential\"\n",
            "_________________________________________________________________\n",
            " Layer (type)                Output Shape              Param #   \n",
            "=================================================================\n",
            " dense_1 (Dense)             (None, 512)               401920    \n",
            "                                                                 \n",
            " activation (Activation)     (None, 512)               0         \n",
            "                                                                 \n",
            " dense_2 (Dense)             (None, 512)               262656    \n",
            "                                                                 \n",
            " dense_3 (Dense)             (None, 512)               262656    \n",
            "                                                                 \n",
            " dense_4 (Dense)             (None, 512)               262656    \n",
            "                                                                 \n",
            " dense_5 (Dense)             (None, 10)                5130      \n",
            "                                                                 \n",
            "=================================================================\n",
            "Total params: 1195018 (4.56 MB)\n",
            "Trainable params: 1195018 (4.56 MB)\n",
            "Non-trainable params: 0 (0.00 Byte)\n",
            "_________________________________________________________________\n"
          ]
        }
      ]
    },
    {
      "cell_type": "code",
      "source": [
        "model.compile(\n",
        "    optimizer = \"adam\",\n",
        "    loss = 'binary_crossentropy',\n",
        "    metrics = ['accuracy']\n",
        ")"
      ],
      "metadata": {
        "id": "mzyUrig-iCoe"
      },
      "execution_count": null,
      "outputs": []
    },
    {
      "cell_type": "code",
      "source": [
        "!nvidia-smi"
      ],
      "metadata": {
        "colab": {
          "base_uri": "https://localhost:8080/"
        },
        "id": "21UM1DQ2jA2P",
        "outputId": "76f81801-4ed4-4bab-e5bb-dc8af6b10a31"
      },
      "execution_count": null,
      "outputs": [
        {
          "output_type": "stream",
          "name": "stdout",
          "text": [
            "Wed Jan 24 08:19:51 2024       \n",
            "+---------------------------------------------------------------------------------------+\n",
            "| NVIDIA-SMI 535.104.05             Driver Version: 535.104.05   CUDA Version: 12.2     |\n",
            "|-----------------------------------------+----------------------+----------------------+\n",
            "| GPU  Name                 Persistence-M | Bus-Id        Disp.A | Volatile Uncorr. ECC |\n",
            "| Fan  Temp   Perf          Pwr:Usage/Cap |         Memory-Usage | GPU-Util  Compute M. |\n",
            "|                                         |                      |               MIG M. |\n",
            "|=========================================+======================+======================|\n",
            "|   0  Tesla T4                       Off | 00000000:00:04.0 Off |                    0 |\n",
            "| N/A   63C    P0              27W /  70W |    119MiB / 15360MiB |      0%      Default |\n",
            "|                                         |                      |                  N/A |\n",
            "+-----------------------------------------+----------------------+----------------------+\n",
            "                                                                                         \n",
            "+---------------------------------------------------------------------------------------+\n",
            "| Processes:                                                                            |\n",
            "|  GPU   GI   CI        PID   Type   Process name                            GPU Memory |\n",
            "|        ID   ID                                                             Usage      |\n",
            "|=======================================================================================|\n",
            "+---------------------------------------------------------------------------------------+\n"
          ]
        }
      ]
    },
    {
      "cell_type": "code",
      "source": [
        "import tensorflow as tf\n"
      ],
      "metadata": {
        "id": "8u4XJbrijF2p"
      },
      "execution_count": null,
      "outputs": []
    },
    {
      "cell_type": "code",
      "source": [
        "tf.config.list_physical_devices('GPU')"
      ],
      "metadata": {
        "colab": {
          "base_uri": "https://localhost:8080/"
        },
        "id": "zmYfZSKwjMaH",
        "outputId": "0acb6955-a961-4613-e933-f1205a8ef69e"
      },
      "execution_count": null,
      "outputs": [
        {
          "output_type": "execute_result",
          "data": {
            "text/plain": [
              "[PhysicalDevice(name='/physical_device:GPU:0', device_type='GPU')]"
            ]
          },
          "metadata": {},
          "execution_count": 25
        }
      ]
    },
    {
      "cell_type": "code",
      "source": [
        "Epochs = 20\n",
        "Batch_size = 64"
      ],
      "metadata": {
        "id": "YSr2wrmvjSu9"
      },
      "execution_count": null,
      "outputs": []
    },
    {
      "cell_type": "code",
      "source": [
        "history = model.fit(\n",
        "    x = x_train,\n",
        "    y = y_train,\n",
        "    epochs = Epochs,\n",
        "    batch_size = Batch_size,\n",
        "    shuffle = True,\n",
        "    validation_split = 0.3\n",
        ")"
      ],
      "metadata": {
        "colab": {
          "base_uri": "https://localhost:8080/"
        },
        "id": "yAvzw8Sqjm6A",
        "outputId": "c8374d02-efc0-4c49-e5df-aae77b008271"
      },
      "execution_count": null,
      "outputs": [
        {
          "output_type": "stream",
          "name": "stdout",
          "text": [
            "Epoch 1/20\n",
            "657/657 [==============================] - 7s 5ms/step - loss: 0.1201 - accuracy: 0.7508 - val_loss: 0.0474 - val_accuracy: 0.9233\n",
            "Epoch 2/20\n",
            "657/657 [==============================] - 3s 5ms/step - loss: 0.0387 - accuracy: 0.9368 - val_loss: 0.0354 - val_accuracy: 0.9431\n",
            "Epoch 3/20\n",
            "657/657 [==============================] - 4s 5ms/step - loss: 0.0265 - accuracy: 0.9570 - val_loss: 0.0252 - val_accuracy: 0.9585\n",
            "Epoch 4/20\n",
            "657/657 [==============================] - 3s 4ms/step - loss: 0.0204 - accuracy: 0.9671 - val_loss: 0.0233 - val_accuracy: 0.9616\n",
            "Epoch 5/20\n",
            "657/657 [==============================] - 3s 5ms/step - loss: 0.0159 - accuracy: 0.9744 - val_loss: 0.0229 - val_accuracy: 0.9636\n",
            "Epoch 6/20\n",
            "657/657 [==============================] - 3s 5ms/step - loss: 0.0131 - accuracy: 0.9785 - val_loss: 0.0209 - val_accuracy: 0.9658\n",
            "Epoch 7/20\n",
            "657/657 [==============================] - 4s 6ms/step - loss: 0.0105 - accuracy: 0.9828 - val_loss: 0.0221 - val_accuracy: 0.9658\n",
            "Epoch 8/20\n",
            "657/657 [==============================] - 3s 5ms/step - loss: 0.0091 - accuracy: 0.9851 - val_loss: 0.0178 - val_accuracy: 0.9735\n",
            "Epoch 9/20\n",
            "657/657 [==============================] - 3s 5ms/step - loss: 0.0074 - accuracy: 0.9880 - val_loss: 0.0179 - val_accuracy: 0.9726\n",
            "Epoch 10/20\n",
            "657/657 [==============================] - 3s 5ms/step - loss: 0.0056 - accuracy: 0.9913 - val_loss: 0.0205 - val_accuracy: 0.9708\n",
            "Epoch 11/20\n",
            "657/657 [==============================] - 4s 5ms/step - loss: 0.0059 - accuracy: 0.9901 - val_loss: 0.0222 - val_accuracy: 0.9703\n",
            "Epoch 12/20\n",
            "657/657 [==============================] - 3s 4ms/step - loss: 0.0048 - accuracy: 0.9924 - val_loss: 0.0212 - val_accuracy: 0.9718\n",
            "Epoch 13/20\n",
            "657/657 [==============================] - 3s 5ms/step - loss: 0.0040 - accuracy: 0.9936 - val_loss: 0.0185 - val_accuracy: 0.9752\n",
            "Epoch 14/20\n",
            "657/657 [==============================] - 3s 5ms/step - loss: 0.0035 - accuracy: 0.9946 - val_loss: 0.0204 - val_accuracy: 0.9743\n",
            "Epoch 15/20\n",
            "657/657 [==============================] - 3s 5ms/step - loss: 0.0036 - accuracy: 0.9943 - val_loss: 0.0217 - val_accuracy: 0.9742\n",
            "Epoch 16/20\n",
            "657/657 [==============================] - 3s 5ms/step - loss: 0.0030 - accuracy: 0.9956 - val_loss: 0.0231 - val_accuracy: 0.9716\n",
            "Epoch 17/20\n",
            "657/657 [==============================] - 3s 4ms/step - loss: 0.0029 - accuracy: 0.9951 - val_loss: 0.0196 - val_accuracy: 0.9757\n",
            "Epoch 18/20\n",
            "657/657 [==============================] - 4s 6ms/step - loss: 0.0024 - accuracy: 0.9963 - val_loss: 0.0254 - val_accuracy: 0.9713\n",
            "Epoch 19/20\n",
            "657/657 [==============================] - 3s 5ms/step - loss: 0.0024 - accuracy: 0.9962 - val_loss: 0.0212 - val_accuracy: 0.9779\n",
            "Epoch 20/20\n",
            "657/657 [==============================] - 3s 5ms/step - loss: 0.0019 - accuracy: 0.9970 - val_loss: 0.0222 - val_accuracy: 0.9760\n"
          ]
        }
      ]
    },
    {
      "cell_type": "code",
      "source": [
        "history.history.keys()"
      ],
      "metadata": {
        "colab": {
          "base_uri": "https://localhost:8080/"
        },
        "id": "3tplueDSl3cs",
        "outputId": "5f7522a8-52df-488f-facd-031f7deef191"
      },
      "execution_count": null,
      "outputs": [
        {
          "output_type": "execute_result",
          "data": {
            "text/plain": [
              "dict_keys(['loss', 'accuracy', 'val_loss', 'val_accuracy'])"
            ]
          },
          "metadata": {},
          "execution_count": 35
        }
      ]
    },
    {
      "cell_type": "code",
      "source": [
        "plt.subplot(121)\n",
        "plt.plot(history.history['accuracy'])\n",
        "plt.plot(history.history['val_accuracy'])\n",
        "plt.xlabel('Epochs')\n",
        "plt.ylabel('Accuracy')\n",
        "plt.legend(['train','test'])\n",
        "\n",
        "plt.subplot(122)\n",
        "plt.plot(history.history['loss'])\n",
        "plt.plot(history.history['val_loss'])\n",
        "plt.xlabel('Epochs')\n",
        "plt.ylabel('Loss')\n",
        "plt.legend(['train','test'])\n",
        "plt.show()"
      ],
      "metadata": {
        "colab": {
          "base_uri": "https://localhost:8080/",
          "height": 453
        },
        "id": "Ruqe9oehmIMa",
        "outputId": "c321ecf6-eb20-4654-f219-544edf2c398e"
      },
      "execution_count": null,
      "outputs": [
        {
          "output_type": "display_data",
          "data": {
            "text/plain": [
              "<Figure size 640x480 with 2 Axes>"
            ],
            "image/png": "[encoded data removed]"
          },
          "metadata": {}
        }
      ]
    },
    {
      "cell_type": "code",
      "source": [
        "!mkdir -p models"
      ],
      "metadata": {
        "id": "CQC3IhvTnNh5"
      },
      "execution_count": null,
      "outputs": []
    },
    {
      "cell_type": "code",
      "source": [
        "!ls models"
      ],
      "metadata": {
        "id": "VnQStBssnfGE"
      },
      "execution_count": null,
      "outputs": []
    },
    {
      "cell_type": "code",
      "source": [
        "filepath = \"models/MNIST_1.h5\""
      ],
      "metadata": {
        "id": "QyONbuRknicz"
      },
      "execution_count": null,
      "outputs": []
    },
    {
      "cell_type": "code",
      "source": [
        "model.save(filepath)"
      ],
      "metadata": {
        "colab": {
          "base_uri": "https://localhost:8080/"
        },
        "id": "UGocgQKpnvDB",
        "outputId": "2c8763db-6684-47d6-bef2-9d02ddf5b567"
      },
      "execution_count": null,
      "outputs": [
        {
          "output_type": "stream",
          "name": "stderr",
          "text": [
            "/usr/local/lib/python3.10/dist-packages/keras/src/engine/training.py:3103: UserWarning: You are saving your model as an HDF5 file via `model.save()`. This file format is considered legacy. We recommend using instead the native Keras format, e.g. `model.save('my_model.keras')`.\n",
            "  saving_api.save_model(\n"
          ]
        }
      ]
    },
    {
      "cell_type": "code",
      "source": [
        "!ls models"
      ],
      "metadata": {
        "colab": {
          "base_uri": "https://localhost:8080/"
        },
        "id": "GeeoSR1nn0WW",
        "outputId": "1fe44088-3d8a-4b38-b3c7-dba4ae7a79a7"
      },
      "execution_count": null,
      "outputs": [
        {
          "output_type": "stream",
          "name": "stdout",
          "text": [
            "MNIST_1.h5\n"
          ]
        }
      ]
    },
    {
      "cell_type": "code",
      "source": [
        "model_load = tf.keras.models.load_model(filepath)"
      ],
      "metadata": {
        "id": "qzPEB9yMn6m0"
      },
      "execution_count": null,
      "outputs": []
    },
    {
      "cell_type": "code",
      "source": [
        "model_load.summary()"
      ],
      "metadata": {
        "colab": {
          "base_uri": "https://localhost:8080/"
        },
        "id": "qJwlcimgoGrZ",
        "outputId": "1ed64100-4c7e-42d3-8d76-d3587140ecba"
      },
      "execution_count": null,
      "outputs": [
        {
          "output_type": "stream",
          "name": "stdout",
          "text": [
            "Model: \"sequential\"\n",
            "_________________________________________________________________\n",
            " Layer (type)                Output Shape              Param #   \n",
            "=================================================================\n",
            " dense_1 (Dense)             (None, 512)               401920    \n",
            "                                                                 \n",
            " activation (Activation)     (None, 512)               0         \n",
            "                                                                 \n",
            " dense_2 (Dense)             (None, 512)               262656    \n",
            "                                                                 \n",
            " dense_3 (Dense)             (None, 512)               262656    \n",
            "                                                                 \n",
            " dense_4 (Dense)             (None, 512)               262656    \n",
            "                                                                 \n",
            " dense_5 (Dense)             (None, 10)                5130      \n",
            "                                                                 \n",
            "=================================================================\n",
            "Total params: 1195018 (4.56 MB)\n",
            "Trainable params: 1195018 (4.56 MB)\n",
            "Non-trainable params: 0 (0.00 Byte)\n",
            "_________________________________________________________________\n"
          ]
        }
      ]
    },
    {
      "cell_type": "code",
      "source": [
        "prediction = model_load.predict(x_test[:10])"
      ],
      "metadata": {
        "colab": {
          "base_uri": "https://localhost:8080/"
        },
        "id": "wxr4jTynoLQ_",
        "outputId": "bdb46789-2413-4d81-b1d6-2f38bee392d8"
      },
      "execution_count": null,
      "outputs": [
        {
          "output_type": "stream",
          "name": "stdout",
          "text": [
            "1/1 [==============================] - 0s 105ms/step\n"
          ]
        }
      ]
    },
    {
      "cell_type": "code",
      "source": [
        "pred = np.argmax(prediction, axis=1)"
      ],
      "metadata": {
        "id": "O_wck-lOoh4Q"
      },
      "execution_count": null,
      "outputs": []
    },
    {
      "cell_type": "code",
      "source": [
        "print(pred)"
      ],
      "metadata": {
        "colab": {
          "base_uri": "https://localhost:8080/"
        },
        "id": "9N0JEutYo5Bq",
        "outputId": "53e9be84-8ad5-448f-96f7-57dee06d20f4"
      },
      "execution_count": null,
      "outputs": [
        {
          "output_type": "stream",
          "name": "stdout",
          "text": [
            "[7 2 1 0 4 1 4 9 5 9]\n"
          ]
        }
      ]
    },
    {
      "cell_type": "code",
      "source": [
        "act = np.argmax(y_test[:10],axis = 1)"
      ],
      "metadata": {
        "id": "rsGOzoAAo7U-"
      },
      "execution_count": null,
      "outputs": []
    },
    {
      "cell_type": "code",
      "source": [
        "print(act)"
      ],
      "metadata": {
        "colab": {
          "base_uri": "https://localhost:8080/"
        },
        "id": "eiK1rjhlpT--",
        "outputId": "0e7f6772-c5ea-4fe6-efa1-a5b029479af3"
      },
      "execution_count": null,
      "outputs": [
        {
          "output_type": "stream",
          "name": "stdout",
          "text": [
            "[7 2 1 0 4 1 4 9 5 9]\n"
          ]
        }
      ]
    },
    {
      "cell_type": "code",
      "source": [
        "score = model_load.evaluate(x_test,y_test,return_dict = True)"
      ],
      "metadata": {
        "colab": {
          "base_uri": "https://localhost:8080/"
        },
        "id": "4PmkDcc5pXGK",
        "outputId": "669aeb04-f013-46ae-bb08-9e2608898fc0"
      },
      "execution_count": null,
      "outputs": [
        {
          "output_type": "stream",
          "name": "stdout",
          "text": [
            "313/313 [==============================] - 1s 3ms/step - loss: 0.0194 - accuracy: 0.9796\n"
          ]
        }
      ]
    },
    {
      "cell_type": "code",
      "source": [
        "print(score)"
      ],
      "metadata": {
        "colab": {
          "base_uri": "https://localhost:8080/"
        },
        "id": "jwRY5Pvmpj1_",
        "outputId": "c22ea725-780e-4ac7-9f26-e5962f660cd2"
      },
      "execution_count": null,
      "outputs": [
        {
          "output_type": "stream",
          "name": "stdout",
          "text": [
            "{'loss': 0.019363241270184517, 'accuracy': 0.9796000123023987}\n"
          ]
        }
      ]
    },
    {
      "cell_type": "code",
      "source": [],
      "metadata": {
        "id": "cDBNcmIEpsvc"
      },
      "execution_count": null,
      "outputs": []
    }
  ]
}